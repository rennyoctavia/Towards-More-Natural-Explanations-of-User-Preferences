{
 "cells": [
  {
   "cell_type": "code",
   "execution_count": null,
   "metadata": {},
   "outputs": [],
   "source": [
    "import json\n",
    "import csv"
   ]
  },
  {
   "cell_type": "markdown",
   "metadata": {},
   "source": [
    "## Functions"
   ]
  },
  {
   "cell_type": "code",
   "execution_count": null,
   "metadata": {},
   "outputs": [],
   "source": [
    "def load_json(filename):\n",
    "    '''\n",
    "    To load Json files\n",
    "    :param filename : filename to load\n",
    "    :return the object from Json file\n",
    "    '''\n",
    "    \n",
    "    with open(filename) as f:\n",
    "        data = json.load(f)\n",
    "    \n",
    "    return data\n",
    "\n",
    "def dump_json(filename,obj_to_dump):\n",
    "    '''\n",
    "    To dump (mainly) dictionaries to Json for further processing\n",
    "    :param filename : filename to save the jsonfile\n",
    "    '''\n",
    "    \n",
    "    with open(filename, 'w') as fp:\n",
    "        json.dump(obj_to_dump, fp)\n",
    "    fp.close()\n",
    "    \n",
    "\n",
    "def get_title(string):\n",
    "    string = string.split(': ')\n",
    "    if len(string)>4:\n",
    "        return ': '.join(string[1:-2]).strip()\n",
    "    else:\n",
    "        return string[1].strip()\n",
    "    "
   ]
  },
  {
   "cell_type": "code",
   "execution_count": null,
   "metadata": {},
   "outputs": [],
   "source": [
    "def mapping_amazon_movielens(success_filename,not_success_filename,preprocessed_movielens,preprocessed_amazon,movielens_dict,amazon_dict,type='exact',match_list='main'):\n",
    "    '''\n",
    "    Function for mapping amazon <-> movielens movies\n",
    "    :param output_filename : filename for the tsv file for output\n",
    "    :param preprocessed_movielens : dictionary of preprocessed movielens title\n",
    "    :param preprocessed_amazon : dictionary of preprocessed amazon title\n",
    "    :param movielens_dict : dictionary of movielens id with original title\n",
    "    :param amazon_dict : dictionary of amazon asin with original title\n",
    "    :param type : 'exact' of 'contain'. exact if the match is using exact match ('='), contain if the match using partly match ('in')\n",
    "    :output :\n",
    "    \n",
    "    '''\n",
    "    success_mapped_movielens_amazon = {}\n",
    "    movielens_not_in_amazon = {}\n",
    "\n",
    "    match_list_title = 'movielens_preprocessed_title' if match_list == 'main' else 'movielens_secondary_aka'\n",
    "    movielens_field = 'title_list' if match_list =='main' else 'secondary_aka'\n",
    "    \n",
    "    with open('Data/Mapping_files/TSV/'+success_filename, 'wt') as out_file:\n",
    "        tsv_writer = csv.writer(out_file, delimiter='\\t')\n",
    "        tsv_writer.writerow(['movielens_id', 'movielens_title',match_list_title, 'amazon_asin', 'amazon_title','amazon_preprocessed_title'])\n",
    "              \n",
    "        for i,movielens_key in enumerate(preprocessed_movielens):\n",
    "            if i%1000 == 0:\n",
    "                print(str(i) + ' data matched from '+ str(len(preprocessed_movielens)))\n",
    "                \n",
    "           \n",
    "            preprocessed_movielens_title = preprocessed_movielens[movielens_key][movielens_field]\n",
    "    \n",
    "            movielens_title = movielens_dict[movielens_key]\n",
    "            there_is_match = False\n",
    "            for amazon_key in preprocessed_amazon:\n",
    "                match = 0\n",
    "                #if preprocessed_amazon_movie_id[amazon_key] == preprocessed_movielens_movies[movielens_key]:\n",
    "                for each_azn_aka in preprocessed_amazon[amazon_key]['title_list']:\n",
    "                    if match>0:\n",
    "                        break\n",
    "                    #for each_ml_aka in preprocessed_movielens_movies[movielens_key]['title_list']:\n",
    "                    for each_ml_aka in preprocessed_movielens_title:\n",
    "                        if type=='exact':\n",
    "                            if each_azn_aka == each_ml_aka:\n",
    "                                match = match +1\n",
    "                        else:\n",
    "                            if each_ml_aka in each_azn_aka:\n",
    "                                match = match + 1\n",
    "                                \n",
    "                    #write to dictionary\n",
    "                if match>0:\n",
    "                    there_is_match = True\n",
    "                    if movielens_key not in success_mapped_movielens_amazon:\n",
    "                        success_mapped_movielens_amazon[movielens_key] = {'movielens_title': movielens_title, \n",
    "                                                                          match_list_title :preprocessed_movielens_title,\n",
    "                                                                          'matched' : [(amazon_key,amazon_dict[amazon_key],preprocessed_amazon[amazon_key]['title_list'])]\n",
    "                                                                         }\n",
    "                    else:\n",
    "                         success_mapped_movielens_amazon[movielens_key]['matched'].append((amazon_key,amazon_dict[amazon_key],preprocessed_amazon[amazon_key]['title_list']))\n",
    "\n",
    "                    #write to tsv file\n",
    "                    tsv_writer.writerow([movielens_key,movielens_title, preprocessed_movielens_title, amazon_key,amazon_dict[amazon_key], preprocessed_amazon[amazon_key]['title_list']])\n",
    "            if there_is_match == False:\n",
    "                movielens_not_in_amazon[movielens_key] = {'movielens_title': movielens_title, match_list_title:preprocessed_movielens_title}\n",
    "    \n",
    "    out_file.close()\n",
    "    \n",
    "    dump_json('Data/Mapping_files/JSON/' + success_filename.split('.')[0] + '.json',success_mapped_movielens_amazon)\n",
    "    dump_json('Data/Mapping_files/JSON/' + not_success_filename.split('.')[0] + '.json',movielens_not_in_amazon)\n",
    "    print('Number of mapped movielens ID: ' + str(len(success_mapped_movielens_amazon)))\n",
    "    print('Number of not mapped ml ID: ' + str(len(movielens_not_in_amazon)))\n",
    "    \n",
    "    #Write the not_mapped movielens_id \n",
    "    with open('Data/Mapping_files/TSV/'+not_success_filename, 'wt') as out_file:\n",
    "        tsv_writer = csv.writer(out_file, delimiter='\\t')\n",
    "        tsv_writer.writerow(['movielens_id', 'movielens_title',match_list_title])\n",
    "        for key,value in movielens_not_in_amazon.items():\n",
    "            tsv_writer.writerow([key, value['movielens_title'],value[match_list_title]])\n",
    "    out_file.close()\n",
    "    \n",
    "    return success_mapped_movielens_amazon, movielens_not_in_amazon"
   ]
  },
  {
   "cell_type": "markdown",
   "metadata": {},
   "source": [
    "## Load the files and parameters needed for Matching"
   ]
  },
  {
   "cell_type": "code",
   "execution_count": null,
   "metadata": {},
   "outputs": [],
   "source": [
    "preprocessed_movielens_movies = load_json('Data/Offline_Files/preprocessed_movielens_movies_4_10.json')\n",
    "movielens_movies = load_json('Data/Offline_Files/movielens_movies.json')\n",
    "preprocessed_amazon_movie_id =  load_json('Data/Offline_Files/preprocessed_amazon_movie_id_4_10.json')\n",
    "amazon_movie_id = load_json('Data/Offline_Files/amazon_movie_id_2.json')"
   ]
  },
  {
   "cell_type": "markdown",
   "metadata": {},
   "source": [
    "### Match amazon data to movielens \n",
    "Create tsv file (sorted by movielensID) - MovielensID, Movielens Title, Amazon ASIN, Amazon title"
   ]
  },
  {
   "cell_type": "code",
   "execution_count": null,
   "metadata": {
    "scrolled": true
   },
   "outputs": [],
   "source": [
    "offline_file = False #Set offline_file to false to do new matches, or True to load available json files\n",
    "\n",
    "if offline_file == True:\n",
    "    success_mapped_movielens_amazon = load_json('Data/Mapping_files/JSON/mapped_ml_azn_4_10.json')\n",
    "    not_mapped_movielens = load_json('Data/Mapping_files/JSON/not_mapped_ml_4_10.json')\n",
    "else:\n",
    "    success_mapped_movielens_amazon,not_mapped_movielens = mapping_amazon_movielens('mapped_ml_azn_4_10.tsv','not_mapped_ml_4_10.tsv',preprocessed_movielens_movies,preprocessed_amazon_movie_id,movielens_movies,amazon_movie_id,type='exact')"
   ]
  },
  {
   "cell_type": "code",
   "execution_count": null,
   "metadata": {},
   "outputs": [],
   "source": [
    "#Printing general summary of mapping\n",
    "print('Number of mapped movielens data : ' + str(len(success_mapped_movielens_amazon)))\n",
    "matched_asin = []\n",
    "for key in success_mapped_movielens_amazon:\n",
    "    matched_asin = matched_asin + [x[0] for x in success_mapped_movielens_amazon[key]['matched']]\n",
    "    \n",
    "print('Number of times ASIN matched : ' + str(len(matched_asin)))\n",
    "\n",
    "print('Number of unique ASIN matched: ' + str(len(set(matched_asin))))\n",
    "    "
   ]
  },
  {
   "cell_type": "markdown",
   "metadata": {},
   "source": [
    "### Secondary match (for further match, not used right now)"
   ]
  },
  {
   "cell_type": "code",
   "execution_count": null,
   "metadata": {},
   "outputs": [],
   "source": [
    "#Getting not mapped preprocessed movielens and preprocessed amazon\n",
    "preprocessed_movielens_notmapped = {}\n",
    "for key in preprocessed_movielens_movies:\n",
    "    if key not in success_mapped_movielens_amazon:\n",
    "        preprocessed_movielens_notmapped[key] = preprocessed_movielens_movies[key]\n",
    "dump_json('Data/Offline_Files/preprocessed_movielens_notmapped_4_10.json',preprocessed_movielens_notmapped)\n",
    "        \n",
    "        \n",
    "preprocessed_amazon_movie_notmapped = {}\n",
    "for key in preprocessed_amazon_movie_id:\n",
    "    if key not in matched_asin:\n",
    "        preprocessed_amazon_movie_notmapped[key]=preprocessed_amazon_movie_id[key]\n",
    "dump_json('Data/Offline_Files/preprocessed_amazon_movie_notmapped_4_10.json',preprocessed_amazon_movie_notmapped)"
   ]
  },
  {
   "cell_type": "code",
   "execution_count": null,
   "metadata": {},
   "outputs": [],
   "source": [
    "#Do secondary map, with the previously not mapped movieelens and amazon"
   ]
  },
  {
   "cell_type": "code",
   "execution_count": null,
   "metadata": {
    "scrolled": true
   },
   "outputs": [],
   "source": [
    "secondary_mapped,secondary_not_mapped_ml = mapping_amazon_movielens('second_mapped_ml_azn_4_8.tsv','second_not_mapped_ml_4_8.tsv',preprocessed_movielens_notmapped,preprocessed_amazon_movie_notmapped,movielens_movies,amazon_movie_id,type='exact',match_list='secondary')"
   ]
  },
  {
   "cell_type": "markdown",
   "metadata": {},
   "source": [
    "secondary not mapped means the movie is not available in amazon (not even in collection)"
   ]
  }
 ],
 "metadata": {
  "kernelspec": {
   "display_name": "Python 3",
   "language": "python",
   "name": "python3"
  },
  "language_info": {
   "codemirror_mode": {
    "name": "ipython",
    "version": 3
   },
   "file_extension": ".py",
   "mimetype": "text/x-python",
   "name": "python",
   "nbconvert_exporter": "python",
   "pygments_lexer": "ipython3",
   "version": "3.7.3"
  }
 },
 "nbformat": 4,
 "nbformat_minor": 4
}
