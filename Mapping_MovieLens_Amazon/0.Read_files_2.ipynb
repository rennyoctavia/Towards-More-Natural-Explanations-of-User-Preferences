{
 "cells": [
  {
   "cell_type": "markdown",
   "metadata": {},
   "source": [
    "# Extracting information"
   ]
  },
  {
   "cell_type": "code",
   "execution_count": null,
   "metadata": {},
   "outputs": [],
   "source": [
    "import pandas as pd\n",
    "import csv\n",
    "import json\n",
    "import pickle"
   ]
  },
  {
   "cell_type": "code",
   "execution_count": 50,
   "metadata": {},
   "outputs": [],
   "source": [
    "def dump_json(filename,obj_to_dump):\n",
    "    '''\n",
    "    To dump (mainly) dictionaries to Json for further processing\n",
    "    :param filename : filename to save the jsonfile\n",
    "    '''\n",
    "    \n",
    "    with open('data/TSV_files/'+filename, 'w') as fp:\n",
    "        json.dump(obj_to_dump, fp)\n",
    "    fp.close()\n",
    "    \n",
    "def load_json(filename):\n",
    "    '''\n",
    "    To load Json files\n",
    "    :param filename : filename to load\n",
    "    :return the object from Json file\n",
    "    '''\n",
    "    \n",
    "    with open('data/TSV_files/'+filename) as f:\n",
    "        data = json.load(f)\n",
    "    \n",
    "    return data"
   ]
  },
  {
   "cell_type": "markdown",
   "metadata": {},
   "source": [
    "# Read MovieLens data\n",
    "\n",
    "To extract the MovieLens movie ID and title to tsv file"
   ]
  },
  {
   "cell_type": "code",
   "execution_count": 16,
   "metadata": {},
   "outputs": [],
   "source": [
    "#Load file in pandas dataframe just for analysis\n",
    "\n",
    "#Contains mapping movielensID to imdbID and tmdbID\n",
    "links = pd.read_csv('data/Movielens/ml-20m/links.csv')\n",
    "\n",
    "#Contains movie id, title and genre\n",
    "movies = pd.read_csv('data/Movielens/ml-20m/movies.csv')"
   ]
  },
  {
   "cell_type": "code",
   "execution_count": 17,
   "metadata": {},
   "outputs": [],
   "source": [
    "def read_movielens_to_tsv(file_output_tsv,file_input = \"movies.csv\"):\n",
    "    '''\n",
    "    To extract movielens movie ID and title, and save to tsv file\n",
    "    :param file_input: filename for the input (to be extracted)\n",
    "    :param file_output : filename to save tsv file\n",
    "    :output : tsv file, and dictionary contains same information (movielens movieId and title)\n",
    "    '''\n",
    "    movielens_movies = {}\n",
    "    with open(\"data/Movielens/ml-20m/\" + file_input) as f:\n",
    "        reader = csv.reader(f, delimiter=',', quotechar='\\\"')\n",
    "        next(reader)\n",
    "        for row in reader:\n",
    "            movielens_movies[row[0]] = row[1]\n",
    "    f.close()\n",
    "    \n",
    "    #Write to TSV files\n",
    "    with open(\"data/TSV_files/\"+ file_output_tsv, 'wt') as out_file:\n",
    "        tsv_writer = csv.writer(out_file, delimiter='\\t')\n",
    "        tsv_writer.writerow(['movieId', 'title'])\n",
    "        for key in movielens_movies:\n",
    "            tsv_writer.writerow([key, movielens_movies[key]])\n",
    "    f.close()\n",
    "    \n",
    "    dump_json(file_output_tsv.split('.')[0]+'.json',movielens_movies)\n",
    "    \n",
    "    \n",
    "    return movielens_movies"
   ]
  },
  {
   "cell_type": "code",
   "execution_count": 18,
   "metadata": {},
   "outputs": [],
   "source": [
    "movielens_movies = read_movielens_to_tsv(\"movielens_movies.tsv\")"
   ]
  },
  {
   "cell_type": "markdown",
   "metadata": {},
   "source": [
    "# Read IMDB Data for ID mapped from MovieLens\n",
    "\n",
    "To extract IMDB title and title aka, title"
   ]
  },
  {
   "cell_type": "code",
   "execution_count": 38,
   "metadata": {},
   "outputs": [],
   "source": [
    "imdb_movies_basic = {}\n",
    "with open(\"data/Imdb/data-basic.tsv\") as f:\n",
    "    next(f)\n",
    "    for line in f:\n",
    "        text = line.split('\\t')\n",
    "        imdb_movies_basic[text[0]] = {'primaryTitle':text[2],'originalTitle':text[3]}\n",
    "f.close()\n",
    "\n",
    "imdb_aka = {}\n",
    "with open(\"data/Imdb/data-aka.tsv\") as f:\n",
    "    next(f)\n",
    "    for line in f:\n",
    "        split_line = line.split('\\t')\n",
    "        if split_line[0] in imdb_aka:\n",
    "            imdb_aka[split_line[0]].append(split_line[2])\n",
    "        else:\n",
    "            imdb_aka[split_line[0]] = [split_line[2]]\n",
    "f.close()"
   ]
  },
  {
   "cell_type": "code",
   "execution_count": 39,
   "metadata": {},
   "outputs": [],
   "source": [
    "#extract mapping of movielens ID and IMDB\n",
    "links_movielens_imdb_ori = {}\n",
    "links_movielens_imdb_converted = {}\n",
    "links_imdb_movielens_converted = {}\n",
    "\n",
    "with open(\"data/Movielens/ml-20m/links.csv\") as f:\n",
    "    reader = csv.reader(f, delimiter=',', quotechar='\\\"')\n",
    "    next(reader)\n",
    "    for row in reader:    \n",
    "        links_movielens_imdb_ori[row[0]] = row[1]\n",
    "        \n",
    "        #since the mapping of imdb id is not 'ready to use', since the format of IMDB id starts with ttxxxxxxxx (with x minimum 8 digit, so if the mapping only have 6 digit, then need to ad 00xxxxxx, ir the mapping only have 7 so add 0xxxxxxx, it can be more than 8 digit)\n",
    "        if len(str(row[1])) >=7:\n",
    "            zeros = ''\n",
    "        else:\n",
    "            zeros = (7-len(str(row[1]))) * '0'\n",
    "        converted_imdb_id = 'tt'+ zeros +str(row[1])\n",
    "        \n",
    "        links_movielens_imdb_converted[row[0]] = converted_imdb_id\n",
    "        links_imdb_movielens_converted[converted_imdb_id] = row[0]\n",
    "        \n",
    "f.close()"
   ]
  },
  {
   "cell_type": "code",
   "execution_count": 44,
   "metadata": {
    "scrolled": true
   },
   "outputs": [],
   "source": [
    "#write tsv file and json file for IMDB mapping\n",
    "movielens_imdb_mapping_title_aka = {}\n",
    "with open(\"Data/TSV_files/movielens_imdb_mapping_title_aka.tsv\", 'wt') as out_file:\n",
    "    tsv_writer = csv.writer(out_file, delimiter='\\t')\n",
    "    tsv_writer.writerow(['movielens_Id', 'movielens_Title', 'imdb_mapped_Id','imdb_Id','imdb_primaryTitle','imdb_originalTitle','imdb_aka'])\n",
    "    \n",
    "    for key in links_movielens_imdb_converted:\n",
    "        imdb_id = links_movielens_imdb_converted[key]\n",
    "        \n",
    "        imdb_primaryTitle = imdb_movies_basic.get(imdb_id,{}).get('primaryTitle','N/A')\n",
    "        imdb_originalTitle = imdb_movies_basic.get(imdb_id,{}).get('originalTitle','N/A')\n",
    "        imdb_aka_temp = imdb_aka.get(imdb_id,'')\n",
    "\n",
    "        tsv_writer.writerow([key, movielens_movies[key],links_movielens_imdb_ori[key],links_movielens_imdb_converted[key],imdb_primaryTitle,imdb_originalTitle,imdb_aka_temp])\n",
    "        movielens_imdb_mapping_title_aka[key]={'movielens_title':movielens_movies[key],\n",
    "                                               'imdb_mapped_Id' :links_movielens_imdb_ori[key],\n",
    "                                               'imdb_Id' : links_movielens_imdb_converted[key],\n",
    "                                               'imdb_primaryTitle' : imdb_primaryTitle,\n",
    "                                               'imdb_originalTitle': imdb_originalTitle,\n",
    "                                               'imdb_aka' : imdb_aka_temp\n",
    "                                              }\n",
    "out_file.close()\n",
    "\n",
    "dump_json('movielens_imdb_mapping_title_aka.json',movielens_imdb_mapping_title_aka)\n",
    "    "
   ]
  },
  {
   "cell_type": "code",
   "execution_count": 63,
   "metadata": {},
   "outputs": [],
   "source": [
    "#lookup the converted_imdb_id from the imdb_movies_basic\n",
    "not_available_in_basic = {}\n",
    "not_available_in_aka = []\n",
    "for item in links_imdb_movielens_converted:\n",
    "    if item not in imdb_movies_basic.keys():\n",
    "        movielensId = links_imdb_movielens_converted[item]\n",
    "        if item in imdb_aka:\n",
    "            available_aka = True\n",
    "        else:\n",
    "            available_aka = False\n",
    "        not_available_in_basic[item] = {'movielens_id':movielensId, 'movielens_title':movielens_movies[movielensId],'available_in_aka':available_aka}\n",
    "    if item not in imdb_aka:\n",
    "        not_available_in_aka.append(item)"
   ]
  },
  {
   "cell_type": "code",
   "execution_count": 77,
   "metadata": {},
   "outputs": [],
   "source": [
    "#There are 46 of mapped imdb id that is not found in imdb dataset for various reason, some have updadted number, some are not available, some \n",
    "#are not in the basic data but in aka dataset\n",
    "\n",
    "not_available_in_basic_df = pd.DataFrame(not_available_in_basic).transpose().reset_index()\n",
    "not_available_in_basic_df.columns = ['Imdb_Id','available_in_aka','movielens_Id','movielens_Title']\n",
    "not_available_in_basic_df.to_excel(\"Data/TSV_files/IMDB_ID not found in IMDB datasets.xlsx\")\n",
    "dump_json('Imdb_Id_not_found.json',not_available_in_basic)"
   ]
  },
  {
   "cell_type": "markdown",
   "metadata": {},
   "source": [
    "# Read Amazon data\n",
    "To extract the Amazon ASIN and the title"
   ]
  },
  {
   "cell_type": "code",
   "execution_count": 52,
   "metadata": {},
   "outputs": [],
   "source": [
    "def get_title(string):\n",
    "    string = string.split(': ')\n",
    "    if len(string)>4:\n",
    "        return ': '.join(string[1:-2]).strip()\n",
    "    else:\n",
    "        return string[1].strip()"
   ]
  },
  {
   "cell_type": "code",
   "execution_count": 58,
   "metadata": {},
   "outputs": [],
   "source": [
    "def load_amazon_json(path):\n",
    "    g = open(path, 'r')\n",
    "    for l in g:\n",
    "        yield eval(l)\n",
    "\n",
    "def write_amazon_data_to_file(file_path, output_path):\n",
    "    amazon_meta = load_amazon_json(file_path)\n",
    "    \n",
    "    #Remove duplicates\n",
    "    #data = set([json.dumps(d) for d in all_data])\n",
    "    #unique_data = [json.loads(d) for d in data]\n",
    "    \n",
    "    #create dictionary for meta file with asin as the key (this removes duplicates also). Have checked that there are 21927 exact data duplicates (dictionaries).\n",
    "    #so can do the following to remove duplicates automatically\n",
    "    unique_amazon_meta = {}\n",
    "    for item in amazon_meta:\n",
    "        unique_amazon_meta[item['asin']] = item\n",
    "            \n",
    "    amazon_movies = {}\n",
    "    \n",
    "    with open(output_path, 'wt') as out_file:\n",
    "        tsv_writer = csv.writer(out_file, delimiter='\\t')\n",
    "        tsv_writer.writerow(['Amazon_Asin', 'Title'])\n",
    "        \n",
    "        for key in unique_amazon_meta:\n",
    "            #some does not have title\n",
    "            title_temp = unique_amazon_meta.get(key,{}).get('title','N/A')\n",
    "            #some title in a form of long script, this is to extract the title\n",
    "            if title_temp.startswith('var aPageStart'):\n",
    "                for line in (title_temp.split('\\n')):\n",
    "                    if line.startswith('Amazon.com:'):\n",
    "                        title_temp = get_title(line)\n",
    "            \n",
    "            if len(title_temp)>1000:\n",
    "                tsv_writer.writerow([key, 'invalid title'])\n",
    "            else:\n",
    "                tsv_writer.writerow([key, title_temp])\n",
    "            \n",
    "            amazon_movies[key] = title_temp\n",
    "             \n",
    "    out_file.close()\n",
    "    dump_json(output_path.split('/')[-1].split('.')[0]+'.json',amazon_movies)\n",
    "    dump_json('amazon_unique_meta_2.json',unique_amazon_meta)\n",
    "    return amazon_movies\n",
    "    \n"
   ]
  },
  {
   "cell_type": "code",
   "execution_count": 59,
   "metadata": {
    "scrolled": true
   },
   "outputs": [],
   "source": [
    "amazon_movies = write_amazon_data_to_file('Data/Amazon/meta_Movies_and_TV.json','Data/TSV_files/amazon_movie_id_2.tsv')"
   ]
  },
  {
   "cell_type": "code",
   "execution_count": null,
   "metadata": {},
   "outputs": [],
   "source": []
  }
 ],
 "metadata": {
  "kernelspec": {
   "display_name": "Python 3",
   "language": "python",
   "name": "python3"
  },
  "language_info": {
   "codemirror_mode": {
    "name": "ipython",
    "version": 3
   },
   "file_extension": ".py",
   "mimetype": "text/x-python",
   "name": "python",
   "nbconvert_exporter": "python",
   "pygments_lexer": "ipython3",
   "version": "3.7.3"
  }
 },
 "nbformat": 4,
 "nbformat_minor": 4
}
