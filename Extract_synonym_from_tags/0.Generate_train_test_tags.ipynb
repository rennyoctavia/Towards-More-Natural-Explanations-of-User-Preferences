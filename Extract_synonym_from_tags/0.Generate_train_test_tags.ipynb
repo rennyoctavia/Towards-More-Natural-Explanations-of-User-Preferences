{
 "cells": [
  {
   "cell_type": "markdown",
   "metadata": {},
   "source": [
    "# This is to Split Tags to Train/Test split"
   ]
  },
  {
   "cell_type": "code",
   "execution_count": null,
   "metadata": {},
   "outputs": [],
   "source": [
    "import pickle\n",
    "import random"
   ]
  },
  {
   "cell_type": "code",
   "execution_count": 32,
   "metadata": {},
   "outputs": [],
   "source": [
    "def dump_pickle(filename,obj):\n",
    "    with open(filename,'wb') as f:\n",
    "        pickle.dump(obj,f)\n"
   ]
  },
  {
   "cell_type": "code",
   "execution_count": 2,
   "metadata": {},
   "outputs": [],
   "source": [
    "tagged_tags = pickle.load( open( \"data/output/tagged_tags_dictionary_withsents_film_17_05_20.pkl\", \"rb\" ) )"
   ]
  },
  {
   "cell_type": "code",
   "execution_count": 16,
   "metadata": {},
   "outputs": [],
   "source": [
    "tags_text = list(tagged_tags.keys())\n",
    "random.shuffle(tags_text)"
   ]
  },
  {
   "cell_type": "code",
   "execution_count": 18,
   "metadata": {},
   "outputs": [],
   "source": [
    "## Split the train test set based on randomized tags order, take the first 80% as train split and the last 20% as test split\n",
    "train_portion = 0.8\n",
    "#split 80/20\n",
    "train_tags = {}\n",
    "test_tags = {}\n",
    "for i,tag in enumerate(tags_text):\n",
    "    if i < len(tagged_tags)*0.8:\n",
    "        train_tags[tag] = tagged_tags[tag]\n",
    "    else:\n",
    "        test_tags[tag] = tagged_tags[tag]\n"
   ]
  },
  {
   "cell_type": "code",
   "execution_count": 24,
   "metadata": {},
   "outputs": [],
   "source": [
    "mapped_train_tags = {}\n",
    "for tag,value in train_tags.items():\n",
    "    pos = value['POS_Tags_Group'] \n",
    "    if pos in mapped_train_tags:\n",
    "        mapped_train_tags[pos].append(tag)\n",
    "    else:\n",
    "        mapped_train_tags[pos] = [tag]\n",
    "\n",
    "mapped_test_tags = {}\n",
    "for tag,value in test_tags.items():\n",
    "    pos = value['POS_Tags_Group'] \n",
    "    if pos in mapped_test_tags:\n",
    "        mapped_test_tags[pos].append(tag)\n",
    "    else:\n",
    "        mapped_test_tags[pos] = [tag]\n"
   ]
  },
  {
   "cell_type": "code",
   "execution_count": 35,
   "metadata": {},
   "outputs": [],
   "source": [
    "#dump_pickle('data/dataset/train_tags.pkl',train_tags)\n",
    "#dump_pickle('data/dataset/test_tags.pkl',test_tags)\n",
    "#dump_pickle('data/dataset/mapped_train_tags.pkl',mapped_train_tags)\n",
    "#dump_pickle('data/dataset/mapped_test_tags.pkl',mapped_test_tags)"
   ]
  }
 ],
 "metadata": {
  "kernelspec": {
   "display_name": "Python 3",
   "language": "python",
   "name": "python3"
  },
  "language_info": {
   "codemirror_mode": {
    "name": "ipython",
    "version": 3
   },
   "file_extension": ".py",
   "mimetype": "text/x-python",
   "name": "python",
   "nbconvert_exporter": "python",
   "pygments_lexer": "ipython3",
   "version": "3.7.3"
  }
 },
 "nbformat": 4,
 "nbformat_minor": 4
}
